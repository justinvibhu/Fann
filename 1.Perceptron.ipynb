{
 "cells": [
  {
   "cell_type": "code",
   "execution_count": 1,
   "id": "2b429169",
   "metadata": {},
   "outputs": [
    {
     "name": "stdout",
     "output_type": "stream",
     "text": [
      "iteration: 0. Error: 0.49924700687533047\n",
      "iteration: 1000. Error: 0.009639191960696195\n",
      "iteration: 2000. Error: 0.0036685472024100057\n",
      "iteration: 3000. Error: 0.002212656270914021\n",
      "iteration: 4000. Error: 0.0015707031391293301\n",
      "iteration: 5000. Error: 0.0012123203559926783\n",
      "iteration: 6000. Error: 0.0009846159249514977\n",
      "iteration: 7000. Error: 0.0008275576070151486\n",
      "iteration: 8000. Error: 0.0007128875941981153\n",
      "iteration: 9000. Error: 0.0006255963016758296\n",
      "iteration: 10000. Error: 0.0005569884043164658\n",
      "iteration: 11000. Error: 0.0005016853645032955\n",
      "iteration: 12000. Error: 0.0004561850430968448\n",
      "iteration: 13000. Error: 0.0004181108657145229\n",
      "iteration: 14000. Error: 0.0003857942723048765\n",
      "Training complete\n",
      "Precentages: \n",
      "[[9.99613826e-01]\n",
      " [9.99613418e-01]\n",
      " [1.66212501e-04]\n",
      " [4.93151116e-04]]\n",
      "Predictions: \n",
      "[[1.]\n",
      " [1.]\n",
      " [0.]\n",
      " [0.]]\n"
     ]
    },
    {
     "data": {
      "image/png": "[encoded data removed]",
      "text/plain": [
       "<Figure size 432x288 with 1 Axes>"
      ]
     },
     "metadata": {
      "needs_background": "light"
     },
     "output_type": "display_data"
    }
   ],
   "source": [
    "import numpy as np\n",
    "import matplotlib.pyplot as plt\n",
    "\n",
    "X = np.array([[1,1,0],[1,0,1],[1,0,0],[1,1,1]])\n",
    "y = np.array([[1],[1],[0],[0]])\n",
    "\n",
    "def sigmoid(x):\n",
    "  return 1/(1 + np.exp(-x))\n",
    "\n",
    "def sigmoid_deriv(x):\n",
    "  return sigmoid(x)*(1-sigmoid(x))\n",
    "\n",
    "def forward(x,w1,w2,predict=False):\n",
    "  a1 = np.matmul(x,w1)\n",
    "  z1 = sigmoid(a1)\n",
    "  bias = np.ones((len(z1),1))\n",
    "  z1 = np.concatenate((bias,z1),axis=1)\n",
    "  a2 = np.matmul(z1,w2)\n",
    "  z2 = sigmoid(a2)\n",
    "  if predict:\n",
    "    return z2\n",
    "  return a1,z1,a2,z2\n",
    "\n",
    "def backprop(a2,z0,z1,z2,y):\n",
    "  delta2 = z2 - y\n",
    "  Delta2 = np.matmul(z1.T,delta2)\n",
    "  delta1 = (delta2.dot(w2[1:,:].T))*sigmoid_deriv(a1)\n",
    "  Delta1 = np.matmul(z0.T,delta1)\n",
    "  return delta2,Delta1,Delta2\n",
    "\n",
    "w1 = np.random.randn(3,5)\n",
    "w2 = np.random.randn(6,1)\n",
    "\n",
    "lr = 0.89\n",
    "costs = []\n",
    "\n",
    "epochs = 15000\n",
    "m = len(X)\n",
    "for i in range(epochs):\n",
    "  a1,z1,a2,z2 = forward(X,w1,w2)\n",
    "  delta2,Delta1,Delta2 = backprop(a2,X,z1,z2,y)\n",
    "  w1 -= lr*(1/m)*Delta1\n",
    "  w2 -= lr*(1/m)*Delta2\n",
    "  c = np.mean(np.abs(delta2))\n",
    "  costs.append(c)\n",
    "  if i % 1000 == 0:\n",
    "    print(f\"iteration: {i}. Error: {c}\")\n",
    "print(\"Training complete\")\n",
    "\n",
    "z3 = forward(X,w1,w2,True)\n",
    "print(\"Precentages: \")\n",
    "print(z3)\n",
    "print(\"Predictions: \")\n",
    "print(np.round(z3))\n",
    "plt.plot(costs)\n",
    "plt.show()\n"
   ]
  },
  {
   "cell_type": "code",
   "execution_count": null,
   "id": "467f41e2",
   "metadata": {},
   "outputs": [],
   "source": []
  }
 ],
 "metadata": {
  "kernelspec": {
   "display_name": "Python 3 (ipykernel)",
   "language": "python",
   "name": "python3"
  },
  "language_info": {
   "codemirror_mode": {
    "name": "ipython",
    "version": 3
   },
   "file_extension": ".py",
   "mimetype": "text/x-python",
   "name": "python",
   "nbconvert_exporter": "python",
   "pygments_lexer": "ipython3",
   "version": "3.8.0"
  }
 },
 "nbformat": 4,
 "nbformat_minor": 5
}
