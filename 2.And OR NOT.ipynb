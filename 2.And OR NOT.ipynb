{
 "cells": [
  {
   "cell_type": "code",
   "execution_count": 1,
   "id": "2df991dc",
   "metadata": {},
   "outputs": [
    {
     "name": "stdout",
     "output_type": "stream",
     "text": [
      "________________OR function________________\n",
      "OR(0, 1) = 1\n",
      "OR(1, 1) = 1\n",
      "OR(0, 0) = 0\n",
      "OR(1, 0) = 1\n",
      "________________AND Function________________\n",
      "AND(0, 1) = 0\n",
      "AND(1, 1) = 1\n",
      "AND(0, 0) = 0\n",
      "AND(1, 0) = 0\n"
     ]
    }
   ],
   "source": [
    "# importing Python library\n",
    "import numpy as np\n",
    "\n",
    "# define Unit Step Function\n",
    "def unitStep(v):\n",
    "\tif v >= 0:\n",
    "\t\treturn 1\n",
    "\telse:\n",
    "\t\treturn 0\n",
    "\n",
    "# design Perceptron Model\n",
    "def perceptronModel(x, w, b):\n",
    "\tv = np.dot(w, x) + b\n",
    "\ty = unitStep(v)\n",
    "\treturn y\n",
    "\n",
    "# OR Logic Function\n",
    "# w1 = 1, w2 = 1, b = -0.5\n",
    "def OR_logicFunction(x):\n",
    "\tw = np.array([1, 1])\n",
    "\tb = -0.5\n",
    "\treturn perceptronModel(x, w, b)\n",
    "\n",
    "def AND_Logic_Function(x):\n",
    "    w = np.array([1,1])\n",
    "    b = -1.5\n",
    "    return perceptronModel(x,w,b)\n",
    "\n",
    "# testing the Perceptron Model\n",
    "test1 = np.array([0, 1])\n",
    "test2 = np.array([1, 1])\n",
    "test3 = np.array([0, 0])\n",
    "test4 = np.array([1, 0])\n",
    "\n",
    "print(\"________________OR function________________\")\n",
    "\n",
    "print(\"OR({}, {}) = {}\".format(0, 1, OR_logicFunction(test1)))\n",
    "print(\"OR({}, {}) = {}\".format(1, 1, OR_logicFunction(test2)))\n",
    "print(\"OR({}, {}) = {}\".format(0, 0, OR_logicFunction(test3)))\n",
    "print(\"OR({}, {}) = {}\".format(1, 0, OR_logicFunction(test4)))\n",
    "\n",
    "print(\"________________AND Function________________\")\n",
    "\n",
    "print(\"AND({}, {}) = {}\".format(0, 1, AND_Logic_Function(test1)))\n",
    "print(\"AND({}, {}) = {}\".format(1, 1, AND_Logic_Function(test2)))\n",
    "print(\"AND({}, {}) = {}\".format(0, 0, AND_Logic_Function(test3)))\n",
    "print(\"AND({}, {}) = {}\".format(1, 0, AND_Logic_Function(test4)))\n"
   ]
  },
  {
   "cell_type": "code",
   "execution_count": null,
   "id": "4c4839cc",
   "metadata": {},
   "outputs": [],
   "source": []
  }
 ],
 "metadata": {
  "kernelspec": {
   "display_name": "Python 3 (ipykernel)",
   "language": "python",
   "name": "python3"
  },
  "language_info": {
   "codemirror_mode": {
    "name": "ipython",
    "version": 3
   },
   "file_extension": ".py",
   "mimetype": "text/x-python",
   "name": "python",
   "nbconvert_exporter": "python",
   "pygments_lexer": "ipython3",
   "version": "3.8.0"
  }
 },
 "nbformat": 4,
 "nbformat_minor": 5
}
